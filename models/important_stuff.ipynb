{
 "cells": [
  {
   "cell_type": "markdown",
   "source": [
    "So here I am trying to develop something small to publish to Datalore, let's give it a whirl."
   ],
   "metadata": {
    "collapsed": false,
    "pycharm": {
     "name": "#%% md\n"
    }
   }
  },
  {
   "cell_type": "code",
   "execution_count": 2,
   "metadata": {
    "collapsed": true,
    "pycharm": {
     "is_executing": false
    }
   },
   "outputs": [],
   "source": [
    "import numpy as np\n",
    "import pandas as pd\n",
    "import matplotlib.pyplot as plt\n",
    "import seaborn as sns\n",
    "from sklearn.linear_model import LinearRegression\n",
    "\n",
    "from IPython.core.display import display\n",
    "from pandas.plotting import scatter_matrix"
   ]
  },
  {
   "cell_type": "code",
   "execution_count": 3,
   "outputs": [
    {
     "data": {
      "text/plain": "            0         1         2         3         4         5         6  \\\n0    0.583917  0.824624  0.337748  0.399079  0.626788  0.529780  0.591422   \n1    0.452930  0.055679  0.768267  0.596879  0.682231  0.965764  0.074857   \n2    0.578657  0.457360  0.416130  0.026977  0.458026  0.900463  0.247707   \n3    0.893592  0.502464  0.290845  0.315815  0.717269  0.574767  0.700038   \n4    0.164944  0.369842  0.447325  0.018354  0.492539  0.518582  0.657825   \n5    0.848590  0.620474  0.298259  0.096392  0.974243  0.302900  0.115441   \n6    0.002978  0.674598  0.288319  0.335423  0.215946  0.299005  0.346492   \n7    0.092916  0.186508  0.516103  0.007038  0.470531  0.397836  0.058146   \n8    0.125590  0.593319  0.628698  0.892986  0.009931  0.797903  0.763025   \n9    0.812187  0.002965  0.038906  0.860182  0.769538  0.790089  0.643348   \n10   0.046641  0.045977  0.515647  0.134803  0.567386  0.114331  0.093936   \n11   0.737779  0.950189  0.401533  0.947250  0.030102  0.303031  0.483134   \n12   0.668558  0.750044  0.572383  0.723773  0.900317  0.683024  0.896682   \n13   0.790467  0.172240  0.911639  0.730654  0.867450  0.660332  0.628132   \n14   0.461250  0.432911  0.126522  0.442287  0.913501  0.777958  0.563686   \n15   0.559620  0.636427  0.297203  0.435148  0.261898  0.726802  0.472921   \n16   0.296711  0.128094  0.803415  0.896412  0.752862  0.047143  0.011925   \n17   0.484902  0.743315  0.078952  0.543254  0.964277  0.463435  0.988365   \n18   0.463448  0.284827  0.591717  0.842888  0.477870  0.193484  0.397671   \n19   0.170181  0.569457  0.991560  0.307879  0.535087  0.050202  0.884907   \n20   0.979992  0.774938  0.290081  0.483955  0.444253  0.279761  0.652071   \n21   0.426591  0.288098  0.302349  0.469154  0.340549  0.628382  0.783871   \n22   0.550643  0.930604  0.713824  0.060275  0.497050  0.641758  0.463438   \n23   0.752955  0.236819  0.817484  0.757901  0.796951  0.150374  0.379145   \n24   0.505755  0.758422  0.724339  0.855900  0.291341  0.039260  0.343119   \n25   0.178065  0.141964  0.197914  0.548974  0.749488  0.924252  0.680508   \n26   0.693111  0.020140  0.867511  0.679300  0.093732  0.243448  0.241947   \n27   0.931224  0.410295  0.970888  0.299996  0.048292  0.766930  0.818238   \n28   0.279408  0.139947  0.947414  0.280580  0.817804  0.547810  0.830814   \n29   0.752664  0.152929  0.113733  0.090759  0.705905  0.140546  0.823345   \n..        ...       ...       ...       ...       ...       ...       ...   \n970  0.585735  0.775497  0.564627  0.866207  0.012738  0.331350  0.680068   \n971  0.479260  0.890805  0.540114  0.301014  0.548982  0.863535  0.651153   \n972  0.255371  0.210401  0.084721  0.137696  0.984201  0.027488  0.359244   \n973  0.028292  0.665959  0.206657  0.944912  0.963412  0.955602  0.030875   \n974  0.472811  0.013206  0.256353  0.801457  0.244406  0.448839  0.204160   \n975  0.687547  0.004509  0.391963  0.046616  0.845086  0.149875  0.656741   \n976  0.792135  0.668060  0.107942  0.504604  0.532372  0.661885  0.399049   \n977  0.775006  0.381257  0.268613  0.277659  0.131646  0.890529  0.908366   \n978  0.004671  0.604330  0.830653  0.048491  0.716109  0.749836  0.676536   \n979  0.078242  0.817472  0.322824  0.670073  0.452671  0.555696  0.326199   \n980  0.333911  0.414596  0.543833  0.555853  0.447498  0.673969  0.158354   \n981  0.177099  0.806237  0.962128  0.377884  0.426215  0.911279  0.679365   \n982  0.713579  0.480460  0.406575  0.538225  0.208372  0.997597  0.534482   \n983  0.721098  0.537073  0.475830  0.460700  0.362909  0.426258  0.912012   \n984  0.691854  0.305017  0.818573  0.459779  0.677147  0.845235  0.931127   \n985  0.277618  0.208802  0.693874  0.481770  0.986314  0.821771  0.028354   \n986  0.290382  0.691590  0.936572  0.335297  0.790343  0.806644  0.565539   \n987  0.947136  0.429884  0.794022  0.964260  0.925674  0.763950  0.244494   \n988  0.376107  0.576027  0.168372  0.168152  0.963635  0.357266  0.019809   \n989  0.084396  0.350038  0.315303  0.716170  0.641056  0.426128  0.107845   \n990  0.431063  0.353561  0.587194  0.920360  0.790737  0.264770  0.397832   \n991  0.019422  0.314519  0.969667  0.427681  0.448719  0.557726  0.473656   \n992  0.608985  0.842374  0.875797  0.767361  0.723871  0.321197  0.451012   \n993  0.752220  0.444078  0.264532  0.427231  0.906916  0.466974  0.775005   \n994  0.514662  0.099758  0.385210  0.007874  0.770827  0.926572  0.964774   \n995  0.736783  0.868056  0.566471  0.837697  0.276143  0.763663  0.139472   \n996  0.084259  0.977958  0.080980  0.325624  0.094277  0.275167  0.181082   \n997  0.171166  0.523450  0.022365  0.669305  0.582193  0.504368  0.839414   \n998  0.173176  0.824158  0.565851  0.442755  0.729749  0.115132  0.531428   \n999  0.150636  0.870772  0.385427  0.128514  0.186418  0.551059  0.235499   \n\n            7         8         9         y  \n0    0.640222  0.726127  0.039578  2.839854  \n1    0.716118  0.775478  0.014978  1.880468  \n2    0.396035  0.203493  0.994687  1.724947  \n3    0.921115  0.888683  0.034511  2.703134  \n4    0.003459  0.218713  0.346802  1.558988  \n5    0.392261  0.270685  0.354979  3.163174  \n6    0.206425  0.111179  0.444402  0.845715  \n7    0.340174  0.580329  0.942124  0.792714  \n8    0.964903  0.303180  0.776820  2.534984  \n9    0.679102  0.329133  0.527044  2.796959  \n10   0.841007  0.675620  0.675683  1.602086  \n11   0.390233  0.313883  0.014581  2.486598  \n12   0.981234  0.906481  0.531821  3.632792  \n13   0.575195  0.181607  0.278391  3.704430  \n14   0.425532  0.088625  0.527986  2.436597  \n15   0.575587  0.720875  0.331115  2.477661  \n16   0.345775  0.734389  0.294911  2.728899  \n17   0.616270  0.328511  0.686100  2.460449  \n18   0.265755  0.627324  0.080038  2.640791  \n19   0.286107  0.275835  0.517820  2.080817  \n20   0.309189  0.544143  0.162597  2.789559  \n21   0.428751  0.565394  0.224938  1.478261  \n22   0.779759  0.314148  0.667495  3.775550  \n23   0.649034  0.387129  0.609284  2.712887  \n24   0.817417  0.904868  0.721189  3.672303  \n25   0.571691  0.946432  0.817173  2.044101  \n26   0.365114  0.805045  0.207761  1.810972  \n27   0.509941  0.365625  0.782435  2.911525  \n28   0.081332  0.374179  0.052169  2.954381  \n29   0.956240  0.191111  0.673976  2.309163  \n..        ...       ...       ...       ...  \n970  0.325584  0.170438  0.359434  3.181997  \n971  0.991486  0.320496  0.096963  2.908840  \n972  0.797137  0.524251  0.389866  2.352163  \n973  0.719576  0.767856  0.600153  3.208346  \n974  0.573903  0.343995  0.392409  1.720315  \n975  0.781051  0.443169  0.585390  1.445620  \n976  0.978665  0.992146  0.831222  2.923546  \n977  0.088408  0.010167  0.674646  2.055482  \n978  0.972803  0.990035  0.304264  2.390314  \n979  0.551013  0.433935  0.554926  3.064025  \n980  0.179923  0.137494  0.269716  2.868085  \n981  0.147975  0.372269  0.810333  2.781383  \n982  0.540268  0.182664  0.472011  2.376146  \n983  0.895042  0.897127  0.376365  2.300499  \n984  0.074399  0.336136  0.595611  2.403792  \n985  0.414780  0.482066  0.162726  2.069999  \n986  0.080624  0.208239  0.882279  3.322622  \n987  0.304017  0.103356  0.806135  4.400420  \n988  0.304642  0.370687  0.669819  3.167705  \n989  0.123740  0.618173  0.519555  2.398922  \n990  0.227046  0.642643  0.653086  1.761758  \n991  0.111251  0.522289  0.747471  0.849707  \n992  0.111018  0.865914  0.405330  3.997286  \n993  0.640689  0.896015  0.836146  3.652929  \n994  0.076912  0.288557  0.625383  1.891975  \n995  0.559722  0.165624  0.432093  3.230070  \n996  0.629024  0.815649  0.943310  2.096602  \n997  0.087981  0.537911  0.979179  2.252653  \n998  0.036416  0.489909  0.013500  3.347570  \n999  0.437736  0.630309  0.649255  2.343887  \n\n[1000 rows x 11 columns]",
      "text/html": "<div>\n<style scoped>\n    .dataframe tbody tr th:only-of-type {\n        vertical-align: middle;\n    }\n\n    .dataframe tbody tr th {\n        vertical-align: top;\n    }\n\n    .dataframe thead th {\n        text-align: right;\n    }\n</style>\n<table border=\"1\" class=\"dataframe\">\n  <thead>\n    <tr style=\"text-align: right;\">\n      <th></th>\n      <th>0</th>\n      <th>1</th>\n      <th>2</th>\n      <th>3</th>\n      <th>4</th>\n      <th>5</th>\n      <th>6</th>\n      <th>7</th>\n      <th>8</th>\n      <th>9</th>\n      <th>y</th>\n    </tr>\n  </thead>\n  <tbody>\n    <tr>\n      <th>0</th>\n      <td>0.583917</td>\n      <td>0.824624</td>\n      <td>0.337748</td>\n      <td>0.399079</td>\n      <td>0.626788</td>\n      <td>0.529780</td>\n      <td>0.591422</td>\n      <td>0.640222</td>\n      <td>0.726127</td>\n      <td>0.039578</td>\n      <td>2.839854</td>\n    </tr>\n    <tr>\n      <th>1</th>\n      <td>0.452930</td>\n      <td>0.055679</td>\n      <td>0.768267</td>\n      <td>0.596879</td>\n      <td>0.682231</td>\n      <td>0.965764</td>\n      <td>0.074857</td>\n      <td>0.716118</td>\n      <td>0.775478</td>\n      <td>0.014978</td>\n      <td>1.880468</td>\n    </tr>\n    <tr>\n      <th>2</th>\n      <td>0.578657</td>\n      <td>0.457360</td>\n      <td>0.416130</td>\n      <td>0.026977</td>\n      <td>0.458026</td>\n      <td>0.900463</td>\n      <td>0.247707</td>\n      <td>0.396035</td>\n      <td>0.203493</td>\n      <td>0.994687</td>\n      <td>1.724947</td>\n    </tr>\n    <tr>\n      <th>3</th>\n      <td>0.893592</td>\n      <td>0.502464</td>\n      <td>0.290845</td>\n      <td>0.315815</td>\n      <td>0.717269</td>\n      <td>0.574767</td>\n      <td>0.700038</td>\n      <td>0.921115</td>\n      <td>0.888683</td>\n      <td>0.034511</td>\n      <td>2.703134</td>\n    </tr>\n    <tr>\n      <th>4</th>\n      <td>0.164944</td>\n      <td>0.369842</td>\n      <td>0.447325</td>\n      <td>0.018354</td>\n      <td>0.492539</td>\n      <td>0.518582</td>\n      <td>0.657825</td>\n      <td>0.003459</td>\n      <td>0.218713</td>\n      <td>0.346802</td>\n      <td>1.558988</td>\n    </tr>\n    <tr>\n      <th>5</th>\n      <td>0.848590</td>\n      <td>0.620474</td>\n      <td>0.298259</td>\n      <td>0.096392</td>\n      <td>0.974243</td>\n      <td>0.302900</td>\n      <td>0.115441</td>\n      <td>0.392261</td>\n      <td>0.270685</td>\n      <td>0.354979</td>\n      <td>3.163174</td>\n    </tr>\n    <tr>\n      <th>6</th>\n      <td>0.002978</td>\n      <td>0.674598</td>\n      <td>0.288319</td>\n      <td>0.335423</td>\n      <td>0.215946</td>\n      <td>0.299005</td>\n      <td>0.346492</td>\n      <td>0.206425</td>\n      <td>0.111179</td>\n      <td>0.444402</td>\n      <td>0.845715</td>\n    </tr>\n    <tr>\n      <th>7</th>\n      <td>0.092916</td>\n      <td>0.186508</td>\n      <td>0.516103</td>\n      <td>0.007038</td>\n      <td>0.470531</td>\n      <td>0.397836</td>\n      <td>0.058146</td>\n      <td>0.340174</td>\n      <td>0.580329</td>\n      <td>0.942124</td>\n      <td>0.792714</td>\n    </tr>\n    <tr>\n      <th>8</th>\n      <td>0.125590</td>\n      <td>0.593319</td>\n      <td>0.628698</td>\n      <td>0.892986</td>\n      <td>0.009931</td>\n      <td>0.797903</td>\n      <td>0.763025</td>\n      <td>0.964903</td>\n      <td>0.303180</td>\n      <td>0.776820</td>\n      <td>2.534984</td>\n    </tr>\n    <tr>\n      <th>9</th>\n      <td>0.812187</td>\n      <td>0.002965</td>\n      <td>0.038906</td>\n      <td>0.860182</td>\n      <td>0.769538</td>\n      <td>0.790089</td>\n      <td>0.643348</td>\n      <td>0.679102</td>\n      <td>0.329133</td>\n      <td>0.527044</td>\n      <td>2.796959</td>\n    </tr>\n    <tr>\n      <th>10</th>\n      <td>0.046641</td>\n      <td>0.045977</td>\n      <td>0.515647</td>\n      <td>0.134803</td>\n      <td>0.567386</td>\n      <td>0.114331</td>\n      <td>0.093936</td>\n      <td>0.841007</td>\n      <td>0.675620</td>\n      <td>0.675683</td>\n      <td>1.602086</td>\n    </tr>\n    <tr>\n      <th>11</th>\n      <td>0.737779</td>\n      <td>0.950189</td>\n      <td>0.401533</td>\n      <td>0.947250</td>\n      <td>0.030102</td>\n      <td>0.303031</td>\n      <td>0.483134</td>\n      <td>0.390233</td>\n      <td>0.313883</td>\n      <td>0.014581</td>\n      <td>2.486598</td>\n    </tr>\n    <tr>\n      <th>12</th>\n      <td>0.668558</td>\n      <td>0.750044</td>\n      <td>0.572383</td>\n      <td>0.723773</td>\n      <td>0.900317</td>\n      <td>0.683024</td>\n      <td>0.896682</td>\n      <td>0.981234</td>\n      <td>0.906481</td>\n      <td>0.531821</td>\n      <td>3.632792</td>\n    </tr>\n    <tr>\n      <th>13</th>\n      <td>0.790467</td>\n      <td>0.172240</td>\n      <td>0.911639</td>\n      <td>0.730654</td>\n      <td>0.867450</td>\n      <td>0.660332</td>\n      <td>0.628132</td>\n      <td>0.575195</td>\n      <td>0.181607</td>\n      <td>0.278391</td>\n      <td>3.704430</td>\n    </tr>\n    <tr>\n      <th>14</th>\n      <td>0.461250</td>\n      <td>0.432911</td>\n      <td>0.126522</td>\n      <td>0.442287</td>\n      <td>0.913501</td>\n      <td>0.777958</td>\n      <td>0.563686</td>\n      <td>0.425532</td>\n      <td>0.088625</td>\n      <td>0.527986</td>\n      <td>2.436597</td>\n    </tr>\n    <tr>\n      <th>15</th>\n      <td>0.559620</td>\n      <td>0.636427</td>\n      <td>0.297203</td>\n      <td>0.435148</td>\n      <td>0.261898</td>\n      <td>0.726802</td>\n      <td>0.472921</td>\n      <td>0.575587</td>\n      <td>0.720875</td>\n      <td>0.331115</td>\n      <td>2.477661</td>\n    </tr>\n    <tr>\n      <th>16</th>\n      <td>0.296711</td>\n      <td>0.128094</td>\n      <td>0.803415</td>\n      <td>0.896412</td>\n      <td>0.752862</td>\n      <td>0.047143</td>\n      <td>0.011925</td>\n      <td>0.345775</td>\n      <td>0.734389</td>\n      <td>0.294911</td>\n      <td>2.728899</td>\n    </tr>\n    <tr>\n      <th>17</th>\n      <td>0.484902</td>\n      <td>0.743315</td>\n      <td>0.078952</td>\n      <td>0.543254</td>\n      <td>0.964277</td>\n      <td>0.463435</td>\n      <td>0.988365</td>\n      <td>0.616270</td>\n      <td>0.328511</td>\n      <td>0.686100</td>\n      <td>2.460449</td>\n    </tr>\n    <tr>\n      <th>18</th>\n      <td>0.463448</td>\n      <td>0.284827</td>\n      <td>0.591717</td>\n      <td>0.842888</td>\n      <td>0.477870</td>\n      <td>0.193484</td>\n      <td>0.397671</td>\n      <td>0.265755</td>\n      <td>0.627324</td>\n      <td>0.080038</td>\n      <td>2.640791</td>\n    </tr>\n    <tr>\n      <th>19</th>\n      <td>0.170181</td>\n      <td>0.569457</td>\n      <td>0.991560</td>\n      <td>0.307879</td>\n      <td>0.535087</td>\n      <td>0.050202</td>\n      <td>0.884907</td>\n      <td>0.286107</td>\n      <td>0.275835</td>\n      <td>0.517820</td>\n      <td>2.080817</td>\n    </tr>\n    <tr>\n      <th>20</th>\n      <td>0.979992</td>\n      <td>0.774938</td>\n      <td>0.290081</td>\n      <td>0.483955</td>\n      <td>0.444253</td>\n      <td>0.279761</td>\n      <td>0.652071</td>\n      <td>0.309189</td>\n      <td>0.544143</td>\n      <td>0.162597</td>\n      <td>2.789559</td>\n    </tr>\n    <tr>\n      <th>21</th>\n      <td>0.426591</td>\n      <td>0.288098</td>\n      <td>0.302349</td>\n      <td>0.469154</td>\n      <td>0.340549</td>\n      <td>0.628382</td>\n      <td>0.783871</td>\n      <td>0.428751</td>\n      <td>0.565394</td>\n      <td>0.224938</td>\n      <td>1.478261</td>\n    </tr>\n    <tr>\n      <th>22</th>\n      <td>0.550643</td>\n      <td>0.930604</td>\n      <td>0.713824</td>\n      <td>0.060275</td>\n      <td>0.497050</td>\n      <td>0.641758</td>\n      <td>0.463438</td>\n      <td>0.779759</td>\n      <td>0.314148</td>\n      <td>0.667495</td>\n      <td>3.775550</td>\n    </tr>\n    <tr>\n      <th>23</th>\n      <td>0.752955</td>\n      <td>0.236819</td>\n      <td>0.817484</td>\n      <td>0.757901</td>\n      <td>0.796951</td>\n      <td>0.150374</td>\n      <td>0.379145</td>\n      <td>0.649034</td>\n      <td>0.387129</td>\n      <td>0.609284</td>\n      <td>2.712887</td>\n    </tr>\n    <tr>\n      <th>24</th>\n      <td>0.505755</td>\n      <td>0.758422</td>\n      <td>0.724339</td>\n      <td>0.855900</td>\n      <td>0.291341</td>\n      <td>0.039260</td>\n      <td>0.343119</td>\n      <td>0.817417</td>\n      <td>0.904868</td>\n      <td>0.721189</td>\n      <td>3.672303</td>\n    </tr>\n    <tr>\n      <th>25</th>\n      <td>0.178065</td>\n      <td>0.141964</td>\n      <td>0.197914</td>\n      <td>0.548974</td>\n      <td>0.749488</td>\n      <td>0.924252</td>\n      <td>0.680508</td>\n      <td>0.571691</td>\n      <td>0.946432</td>\n      <td>0.817173</td>\n      <td>2.044101</td>\n    </tr>\n    <tr>\n      <th>26</th>\n      <td>0.693111</td>\n      <td>0.020140</td>\n      <td>0.867511</td>\n      <td>0.679300</td>\n      <td>0.093732</td>\n      <td>0.243448</td>\n      <td>0.241947</td>\n      <td>0.365114</td>\n      <td>0.805045</td>\n      <td>0.207761</td>\n      <td>1.810972</td>\n    </tr>\n    <tr>\n      <th>27</th>\n      <td>0.931224</td>\n      <td>0.410295</td>\n      <td>0.970888</td>\n      <td>0.299996</td>\n      <td>0.048292</td>\n      <td>0.766930</td>\n      <td>0.818238</td>\n      <td>0.509941</td>\n      <td>0.365625</td>\n      <td>0.782435</td>\n      <td>2.911525</td>\n    </tr>\n    <tr>\n      <th>28</th>\n      <td>0.279408</td>\n      <td>0.139947</td>\n      <td>0.947414</td>\n      <td>0.280580</td>\n      <td>0.817804</td>\n      <td>0.547810</td>\n      <td>0.830814</td>\n      <td>0.081332</td>\n      <td>0.374179</td>\n      <td>0.052169</td>\n      <td>2.954381</td>\n    </tr>\n    <tr>\n      <th>29</th>\n      <td>0.752664</td>\n      <td>0.152929</td>\n      <td>0.113733</td>\n      <td>0.090759</td>\n      <td>0.705905</td>\n      <td>0.140546</td>\n      <td>0.823345</td>\n      <td>0.956240</td>\n      <td>0.191111</td>\n      <td>0.673976</td>\n      <td>2.309163</td>\n    </tr>\n    <tr>\n      <th>...</th>\n      <td>...</td>\n      <td>...</td>\n      <td>...</td>\n      <td>...</td>\n      <td>...</td>\n      <td>...</td>\n      <td>...</td>\n      <td>...</td>\n      <td>...</td>\n      <td>...</td>\n      <td>...</td>\n    </tr>\n    <tr>\n      <th>970</th>\n      <td>0.585735</td>\n      <td>0.775497</td>\n      <td>0.564627</td>\n      <td>0.866207</td>\n      <td>0.012738</td>\n      <td>0.331350</td>\n      <td>0.680068</td>\n      <td>0.325584</td>\n      <td>0.170438</td>\n      <td>0.359434</td>\n      <td>3.181997</td>\n    </tr>\n    <tr>\n      <th>971</th>\n      <td>0.479260</td>\n      <td>0.890805</td>\n      <td>0.540114</td>\n      <td>0.301014</td>\n      <td>0.548982</td>\n      <td>0.863535</td>\n      <td>0.651153</td>\n      <td>0.991486</td>\n      <td>0.320496</td>\n      <td>0.096963</td>\n      <td>2.908840</td>\n    </tr>\n    <tr>\n      <th>972</th>\n      <td>0.255371</td>\n      <td>0.210401</td>\n      <td>0.084721</td>\n      <td>0.137696</td>\n      <td>0.984201</td>\n      <td>0.027488</td>\n      <td>0.359244</td>\n      <td>0.797137</td>\n      <td>0.524251</td>\n      <td>0.389866</td>\n      <td>2.352163</td>\n    </tr>\n    <tr>\n      <th>973</th>\n      <td>0.028292</td>\n      <td>0.665959</td>\n      <td>0.206657</td>\n      <td>0.944912</td>\n      <td>0.963412</td>\n      <td>0.955602</td>\n      <td>0.030875</td>\n      <td>0.719576</td>\n      <td>0.767856</td>\n      <td>0.600153</td>\n      <td>3.208346</td>\n    </tr>\n    <tr>\n      <th>974</th>\n      <td>0.472811</td>\n      <td>0.013206</td>\n      <td>0.256353</td>\n      <td>0.801457</td>\n      <td>0.244406</td>\n      <td>0.448839</td>\n      <td>0.204160</td>\n      <td>0.573903</td>\n      <td>0.343995</td>\n      <td>0.392409</td>\n      <td>1.720315</td>\n    </tr>\n    <tr>\n      <th>975</th>\n      <td>0.687547</td>\n      <td>0.004509</td>\n      <td>0.391963</td>\n      <td>0.046616</td>\n      <td>0.845086</td>\n      <td>0.149875</td>\n      <td>0.656741</td>\n      <td>0.781051</td>\n      <td>0.443169</td>\n      <td>0.585390</td>\n      <td>1.445620</td>\n    </tr>\n    <tr>\n      <th>976</th>\n      <td>0.792135</td>\n      <td>0.668060</td>\n      <td>0.107942</td>\n      <td>0.504604</td>\n      <td>0.532372</td>\n      <td>0.661885</td>\n      <td>0.399049</td>\n      <td>0.978665</td>\n      <td>0.992146</td>\n      <td>0.831222</td>\n      <td>2.923546</td>\n    </tr>\n    <tr>\n      <th>977</th>\n      <td>0.775006</td>\n      <td>0.381257</td>\n      <td>0.268613</td>\n      <td>0.277659</td>\n      <td>0.131646</td>\n      <td>0.890529</td>\n      <td>0.908366</td>\n      <td>0.088408</td>\n      <td>0.010167</td>\n      <td>0.674646</td>\n      <td>2.055482</td>\n    </tr>\n    <tr>\n      <th>978</th>\n      <td>0.004671</td>\n      <td>0.604330</td>\n      <td>0.830653</td>\n      <td>0.048491</td>\n      <td>0.716109</td>\n      <td>0.749836</td>\n      <td>0.676536</td>\n      <td>0.972803</td>\n      <td>0.990035</td>\n      <td>0.304264</td>\n      <td>2.390314</td>\n    </tr>\n    <tr>\n      <th>979</th>\n      <td>0.078242</td>\n      <td>0.817472</td>\n      <td>0.322824</td>\n      <td>0.670073</td>\n      <td>0.452671</td>\n      <td>0.555696</td>\n      <td>0.326199</td>\n      <td>0.551013</td>\n      <td>0.433935</td>\n      <td>0.554926</td>\n      <td>3.064025</td>\n    </tr>\n    <tr>\n      <th>980</th>\n      <td>0.333911</td>\n      <td>0.414596</td>\n      <td>0.543833</td>\n      <td>0.555853</td>\n      <td>0.447498</td>\n      <td>0.673969</td>\n      <td>0.158354</td>\n      <td>0.179923</td>\n      <td>0.137494</td>\n      <td>0.269716</td>\n      <td>2.868085</td>\n    </tr>\n    <tr>\n      <th>981</th>\n      <td>0.177099</td>\n      <td>0.806237</td>\n      <td>0.962128</td>\n      <td>0.377884</td>\n      <td>0.426215</td>\n      <td>0.911279</td>\n      <td>0.679365</td>\n      <td>0.147975</td>\n      <td>0.372269</td>\n      <td>0.810333</td>\n      <td>2.781383</td>\n    </tr>\n    <tr>\n      <th>982</th>\n      <td>0.713579</td>\n      <td>0.480460</td>\n      <td>0.406575</td>\n      <td>0.538225</td>\n      <td>0.208372</td>\n      <td>0.997597</td>\n      <td>0.534482</td>\n      <td>0.540268</td>\n      <td>0.182664</td>\n      <td>0.472011</td>\n      <td>2.376146</td>\n    </tr>\n    <tr>\n      <th>983</th>\n      <td>0.721098</td>\n      <td>0.537073</td>\n      <td>0.475830</td>\n      <td>0.460700</td>\n      <td>0.362909</td>\n      <td>0.426258</td>\n      <td>0.912012</td>\n      <td>0.895042</td>\n      <td>0.897127</td>\n      <td>0.376365</td>\n      <td>2.300499</td>\n    </tr>\n    <tr>\n      <th>984</th>\n      <td>0.691854</td>\n      <td>0.305017</td>\n      <td>0.818573</td>\n      <td>0.459779</td>\n      <td>0.677147</td>\n      <td>0.845235</td>\n      <td>0.931127</td>\n      <td>0.074399</td>\n      <td>0.336136</td>\n      <td>0.595611</td>\n      <td>2.403792</td>\n    </tr>\n    <tr>\n      <th>985</th>\n      <td>0.277618</td>\n      <td>0.208802</td>\n      <td>0.693874</td>\n      <td>0.481770</td>\n      <td>0.986314</td>\n      <td>0.821771</td>\n      <td>0.028354</td>\n      <td>0.414780</td>\n      <td>0.482066</td>\n      <td>0.162726</td>\n      <td>2.069999</td>\n    </tr>\n    <tr>\n      <th>986</th>\n      <td>0.290382</td>\n      <td>0.691590</td>\n      <td>0.936572</td>\n      <td>0.335297</td>\n      <td>0.790343</td>\n      <td>0.806644</td>\n      <td>0.565539</td>\n      <td>0.080624</td>\n      <td>0.208239</td>\n      <td>0.882279</td>\n      <td>3.322622</td>\n    </tr>\n    <tr>\n      <th>987</th>\n      <td>0.947136</td>\n      <td>0.429884</td>\n      <td>0.794022</td>\n      <td>0.964260</td>\n      <td>0.925674</td>\n      <td>0.763950</td>\n      <td>0.244494</td>\n      <td>0.304017</td>\n      <td>0.103356</td>\n      <td>0.806135</td>\n      <td>4.400420</td>\n    </tr>\n    <tr>\n      <th>988</th>\n      <td>0.376107</td>\n      <td>0.576027</td>\n      <td>0.168372</td>\n      <td>0.168152</td>\n      <td>0.963635</td>\n      <td>0.357266</td>\n      <td>0.019809</td>\n      <td>0.304642</td>\n      <td>0.370687</td>\n      <td>0.669819</td>\n      <td>3.167705</td>\n    </tr>\n    <tr>\n      <th>989</th>\n      <td>0.084396</td>\n      <td>0.350038</td>\n      <td>0.315303</td>\n      <td>0.716170</td>\n      <td>0.641056</td>\n      <td>0.426128</td>\n      <td>0.107845</td>\n      <td>0.123740</td>\n      <td>0.618173</td>\n      <td>0.519555</td>\n      <td>2.398922</td>\n    </tr>\n    <tr>\n      <th>990</th>\n      <td>0.431063</td>\n      <td>0.353561</td>\n      <td>0.587194</td>\n      <td>0.920360</td>\n      <td>0.790737</td>\n      <td>0.264770</td>\n      <td>0.397832</td>\n      <td>0.227046</td>\n      <td>0.642643</td>\n      <td>0.653086</td>\n      <td>1.761758</td>\n    </tr>\n    <tr>\n      <th>991</th>\n      <td>0.019422</td>\n      <td>0.314519</td>\n      <td>0.969667</td>\n      <td>0.427681</td>\n      <td>0.448719</td>\n      <td>0.557726</td>\n      <td>0.473656</td>\n      <td>0.111251</td>\n      <td>0.522289</td>\n      <td>0.747471</td>\n      <td>0.849707</td>\n    </tr>\n    <tr>\n      <th>992</th>\n      <td>0.608985</td>\n      <td>0.842374</td>\n      <td>0.875797</td>\n      <td>0.767361</td>\n      <td>0.723871</td>\n      <td>0.321197</td>\n      <td>0.451012</td>\n      <td>0.111018</td>\n      <td>0.865914</td>\n      <td>0.405330</td>\n      <td>3.997286</td>\n    </tr>\n    <tr>\n      <th>993</th>\n      <td>0.752220</td>\n      <td>0.444078</td>\n      <td>0.264532</td>\n      <td>0.427231</td>\n      <td>0.906916</td>\n      <td>0.466974</td>\n      <td>0.775005</td>\n      <td>0.640689</td>\n      <td>0.896015</td>\n      <td>0.836146</td>\n      <td>3.652929</td>\n    </tr>\n    <tr>\n      <th>994</th>\n      <td>0.514662</td>\n      <td>0.099758</td>\n      <td>0.385210</td>\n      <td>0.007874</td>\n      <td>0.770827</td>\n      <td>0.926572</td>\n      <td>0.964774</td>\n      <td>0.076912</td>\n      <td>0.288557</td>\n      <td>0.625383</td>\n      <td>1.891975</td>\n    </tr>\n    <tr>\n      <th>995</th>\n      <td>0.736783</td>\n      <td>0.868056</td>\n      <td>0.566471</td>\n      <td>0.837697</td>\n      <td>0.276143</td>\n      <td>0.763663</td>\n      <td>0.139472</td>\n      <td>0.559722</td>\n      <td>0.165624</td>\n      <td>0.432093</td>\n      <td>3.230070</td>\n    </tr>\n    <tr>\n      <th>996</th>\n      <td>0.084259</td>\n      <td>0.977958</td>\n      <td>0.080980</td>\n      <td>0.325624</td>\n      <td>0.094277</td>\n      <td>0.275167</td>\n      <td>0.181082</td>\n      <td>0.629024</td>\n      <td>0.815649</td>\n      <td>0.943310</td>\n      <td>2.096602</td>\n    </tr>\n    <tr>\n      <th>997</th>\n      <td>0.171166</td>\n      <td>0.523450</td>\n      <td>0.022365</td>\n      <td>0.669305</td>\n      <td>0.582193</td>\n      <td>0.504368</td>\n      <td>0.839414</td>\n      <td>0.087981</td>\n      <td>0.537911</td>\n      <td>0.979179</td>\n      <td>2.252653</td>\n    </tr>\n    <tr>\n      <th>998</th>\n      <td>0.173176</td>\n      <td>0.824158</td>\n      <td>0.565851</td>\n      <td>0.442755</td>\n      <td>0.729749</td>\n      <td>0.115132</td>\n      <td>0.531428</td>\n      <td>0.036416</td>\n      <td>0.489909</td>\n      <td>0.013500</td>\n      <td>3.347570</td>\n    </tr>\n    <tr>\n      <th>999</th>\n      <td>0.150636</td>\n      <td>0.870772</td>\n      <td>0.385427</td>\n      <td>0.128514</td>\n      <td>0.186418</td>\n      <td>0.551059</td>\n      <td>0.235499</td>\n      <td>0.437736</td>\n      <td>0.630309</td>\n      <td>0.649255</td>\n      <td>2.343887</td>\n    </tr>\n  </tbody>\n</table>\n<p>1000 rows × 11 columns</p>\n</div>"
     },
     "metadata": {},
     "output_type": "execute_result",
     "execution_count": 3
    }
   ],
   "source": [
    "N = 1000\n",
    "n_cor = 5\n",
    "n_noise = 5\n",
    "xs = np.random.uniform(0,1,size=(N, n_cor+n_noise))\n",
    "ys = np.sum(xs[:,:5], axis=1) + np.random.normal(0, 0.5, size=(N,))\n",
    "df = pd.DataFrame(xs)\n",
    "df['y'] = ys\n",
    "df"
   ],
   "metadata": {
    "collapsed": false,
    "pycharm": {
     "name": "#%%\n",
     "is_executing": false
    }
   }
  },
  {
   "cell_type": "markdown",
   "source": [
    "Double table output is ugly :("
   ],
   "metadata": {
    "collapsed": false
   }
  },
  {
   "cell_type": "code",
   "execution_count": 4,
   "outputs": [
    {
     "data": {
      "text/plain": "<matplotlib.axes._subplots.AxesSubplot at 0x1134aeb70>"
     },
     "metadata": {},
     "output_type": "execute_result",
     "execution_count": 4
    },
    {
     "data": {
      "text/plain": "<Figure size 432x288 with 2 Axes>",
      "image/png": "[encoded data removed]"
     },
     "metadata": {
      "needs_background": "light"
     },
     "output_type": "display_data"
    }
   ],
   "source": [
    "sns.heatmap(df.corr())"
   ],
   "metadata": {
    "collapsed": false,
    "pycharm": {
     "name": "#%%\n",
     "is_executing": false
    }
   }
  },
  {
   "cell_type": "markdown",
   "source": [
    "So the dataset was generated as we wanted, with 5 variables correlated to the output and 5 noise variables, and all variables uncorrelated. "
   ],
   "metadata": {
    "collapsed": false,
    "pycharm": {
     "name": "#%% md\n"
    }
   }
  },
  {
   "cell_type": "code",
   "execution_count": 7,
   "outputs": [
    {
     "data": {
      "text/plain": "0.623973913105945"
     },
     "metadata": {},
     "output_type": "execute_result",
     "execution_count": 7
    }
   ],
   "source": [
    "X, y = df.drop('y', axis=1, inplace=False), df['y']\n",
    "lm = LinearRegression()\n",
    "lm.fit(X, y)\n",
    "lm.score(X, y)"
   ],
   "metadata": {
    "collapsed": false,
    "pycharm": {
     "name": "#%%\n",
     "is_executing": false
    }
   }
  },
  {
   "cell_type": "code",
   "execution_count": 8,
   "outputs": [
    {
     "data": {
      "text/plain": "array([ 0.97896234,  1.03754972,  0.97230941,  0.96248022,  0.98296492,\n        0.00196929, -0.03470486, -0.06237568,  0.03998565,  0.04944256])"
     },
     "metadata": {},
     "output_type": "execute_result",
     "execution_count": 8
    }
   ],
   "source": [
    "lm.coef_"
   ],
   "metadata": {
    "collapsed": false,
    "pycharm": {
     "name": "#%%\n",
     "is_executing": false
    }
   }
  },
  {
   "cell_type": "code",
   "execution_count": 12,
   "outputs": [
    {
     "data": {
      "text/plain": "0.602978185521867"
     },
     "metadata": {},
     "output_type": "execute_result",
     "execution_count": 12
    }
   ],
   "source": [
    "X2 = np.random.uniform(0,1,size=(N, n_cor+n_noise))\n",
    "y2 = np.sum(X2[:,:5], axis=1) + np.random.normal(0, 0.5, size=(N,))\n",
    "lm.score(X2, y2)"
   ],
   "metadata": {
    "collapsed": false,
    "pycharm": {
     "name": "#%%\n",
     "is_executing": false
    }
   }
  },
  {
   "cell_type": "code",
   "execution_count": null,
   "outputs": [],
   "source": [
    "\n"
   ],
   "metadata": {
    "collapsed": false,
    "pycharm": {
     "name": "#%%\n"
    }
   }
  }
 ],
 "metadata": {
  "language_info": {
   "codemirror_mode": {
    "name": "ipython",
    "version": 2
   },
   "file_extension": ".py",
   "mimetype": "text/x-python",
   "name": "python",
   "nbconvert_exporter": "python",
   "pygments_lexer": "ipython2",
   "version": "2.7.6"
  },
  "kernelspec": {
   "name": "python3",
   "language": "python",
   "display_name": "Python 3"
  },
  "pycharm": {
   "stem_cell": {
    "cell_type": "raw",
    "source": [],
    "metadata": {
     "collapsed": false
    }
   }
  }
 },
 "nbformat": 4,
 "nbformat_minor": 0
}